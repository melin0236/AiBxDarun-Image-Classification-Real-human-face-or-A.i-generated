{
  "nbformat": 4,
  "nbformat_minor": 0,
  "metadata": {
    "colab": {
      "provenance": []
    },
    "kernelspec": {
      "name": "python3",
      "display_name": "Python 3"
    },
    "language_info": {
      "name": "python"
    }
  },
  "cells": [
    {
      "cell_type": "markdown",
      "source": [
        "## Download the dataset from Kaggle\n",
        "Link : https://www.kaggle.com/datasets/awsaf49/artifact-dataset"
      ],
      "metadata": {
        "id": "9jrTc8wF2hXb"
      }
    },
    {
      "cell_type": "code",
      "source": [
        "!pip install kaggle"
      ],
      "metadata": {
        "id": "c6DNqHbE2E67"
      },
      "execution_count": null,
      "outputs": []
    },
    {
      "cell_type": "code",
      "source": [
        "! kaggle datasets download awsaf49/artifact-dataset"
      ],
      "metadata": {
        "id": "d5jVxj_W2I4b"
      },
      "execution_count": null,
      "outputs": []
    },
    {
      "cell_type": "code",
      "source": [
        "import zipfile\n",
        "import os\n",
        "\n",
        "zip_file_path = 'artifact-dataset.zip'\n",
        "target_folder = 'sfhq'\n",
        "\n",
        "os.makedirs(target_folder, exist_ok=True)\n",
        "\n",
        "with zipfile.ZipFile(zip_file_path, 'r') as zip_ref:\n",
        "    for file_info in zip_ref.infolist():\n",
        "        if file_info.filename.startswith(f\"{target_folder}/\"):\n",
        "            zip_ref.extract(file_info, target_folder)"
      ],
      "metadata": {
        "id": "Y1cEy-3q2M-2"
      },
      "execution_count": null,
      "outputs": []
    },
    {
      "cell_type": "code",
      "source": [
        "zip_file_path = 'artifact-dataset.zip'\n",
        "target_folder = 'star_gan'\n",
        "\n",
        "os.makedirs(target_folder, exist_ok=True)\n",
        "\n",
        "with zipfile.ZipFile(zip_file_path, 'r') as zip_ref:\n",
        "    for file_info in zip_ref.infolist():\n",
        "        if file_info.filename.startswith(f\"{target_folder}/\"):\n",
        "            zip_ref.extract(file_info, target_folder)"
      ],
      "metadata": {
        "id": "SdUDxyyc2PGr"
      },
      "execution_count": null,
      "outputs": []
    },
    {
      "cell_type": "code",
      "source": [
        "zip_file_path = 'artifact-dataset.zip'\n",
        "target_folder = 'face_synthetics'\n",
        "\n",
        "os.makedirs(target_folder, exist_ok=True)\n",
        "\n",
        "with zipfile.ZipFile(zip_file_path, 'r') as zip_ref:\n",
        "    for file_info in zip_ref.infolist():\n",
        "        if file_info.filename.startswith(f\"{target_folder}/\"):\n",
        "            zip_ref.extract(file_info, target_folder)"
      ],
      "metadata": {
        "id": "cP7CIrlq2SNi"
      },
      "execution_count": null,
      "outputs": []
    },
    {
      "cell_type": "code",
      "source": [
        "zip_file_path = 'artifact-dataset.zip'\n",
        "target_folder = 'celebahq'\n",
        "\n",
        "os.makedirs(target_folder, exist_ok=True)\n",
        "\n",
        "with zipfile.ZipFile(zip_file_path, 'r') as zip_ref:\n",
        "    for file_info in zip_ref.infolist():\n",
        "        if file_info.filename.startswith(f\"{target_folder}/\"):\n",
        "            zip_ref.extract(file_info, target_folder)"
      ],
      "metadata": {
        "id": "o5djq0Ee2TlZ"
      },
      "execution_count": null,
      "outputs": []
    },
    {
      "cell_type": "markdown",
      "source": [
        "## Merged Files"
      ],
      "metadata": {
        "id": "5eroeRjK2Zmu"
      }
    },
    {
      "cell_type": "code",
      "source": [
        "import os\n",
        "import shutil\n",
        "\n",
        "current_folder = os.getcwd()\n",
        "merge_folder = \"merged_FAKEpictures\"\n",
        "merge_folder_path = os.path.join(current_folder, merge_folder)\n",
        "os.makedirs(merge_folder_path, exist_ok=True)"
      ],
      "metadata": {
        "id": "9D8WNS272gUu"
      },
      "execution_count": null,
      "outputs": []
    },
    {
      "cell_type": "code",
      "source": [
        "def merge_folders(source_folders, destination_folder):\n",
        "    os.makedirs(destination_folder, exist_ok=True)\n",
        "\n",
        "    for folder in source_folders:\n",
        "        if os.path.exists(folder):\n",
        "            for item in os.listdir(folder):\n",
        "                source_item = os.path.join(folder, item)\n",
        "                new_name = f\"{os.path.basename(folder)}_{item}\"\n",
        "                destination_item = os.path.join(destination_folder, new_name)\n",
        "\n",
        "                if os.path.isfile(source_item):\n",
        "                    shutil.copy2(source_item, destination_item)\n",
        "                elif os.path.isdir(source_item):\n",
        "                    shutil.copytree(source_item, destination_item, dirs_exist_ok=True)\n",
        "        else:\n",
        "            print(f\"{folder} not exist\")\n",
        "\n",
        "source_folders = [\n",
        "    'face_synthetics/face_synthetics/facesyn/images',\n",
        "    'sfhq/sfhq/sfhq/images/part1',\n",
        "    'sfhq/sfhq/sfhq/images/part2',\n",
        "    'star_gan/star_gan/star/stargan/Black_Hair',\n",
        "    'star_gan/star_gan/star/stargan/Brown_Hair',\n",
        "    'star_gan/star_gan/star/stargan/Blond_Hair',\n",
        "    'star_gan/star_gan/star/stargan/Male',\n",
        "    'star_gan/star_gan/star/stargan/Young'\n",
        "]\n",
        "\n",
        "destination_folder = 'merged_FAKEpictures'\n",
        "merge_folders(source_folders, destination_folder)"
      ],
      "metadata": {
        "id": "uSCaH-D22sot"
      },
      "execution_count": null,
      "outputs": []
    },
    {
      "cell_type": "code",
      "source": [
        "current_folder = os.getcwd()\n",
        "merge_folder = \"merged_REALpictures\"\n",
        "merge_folder_path = os.path.join(current_folder, merge_folder)\n",
        "os.makedirs(merge_folder_path, exist_ok=True)"
      ],
      "metadata": {
        "id": "c4M_VpW12u-R"
      },
      "execution_count": null,
      "outputs": []
    },
    {
      "cell_type": "code",
      "source": [
        "def merge_folders(source_folders, destination_folder):\n",
        "    os.makedirs(destination_folder, exist_ok=True)\n",
        "\n",
        "    for folder in source_folders:\n",
        "        if os.path.exists(folder):\n",
        "            for item in os.listdir(folder):\n",
        "                source_item = os.path.join(folder, item)\n",
        "                new_name = f\"{os.path.basename(folder)}_{item}\"\n",
        "                destination_item = os.path.join(destination_folder, new_name)\n",
        "\n",
        "                if os.path.isfile(source_item):\n",
        "                    shutil.copy2(source_item, destination_item)\n",
        "                elif os.path.isdir(source_item):\n",
        "                    shutil.copytree(source_item, destination_item, dirs_exist_ok=True)\n",
        "        else:\n",
        "            print(f\"{folder} not exist\")\n",
        "\n",
        "source_folders = 'celebahq/celebahq/celebahq/data1024x1024'\n",
        "\n",
        "destination_folder = 'merged_REALpictures'\n",
        "merge_folders(source_folders, destination_folder)"
      ],
      "metadata": {
        "id": "vG9mwG1N2wqq"
      },
      "execution_count": null,
      "outputs": []
    },
    {
      "cell_type": "markdown",
      "source": [
        "Shuffle files in folder"
      ],
      "metadata": {
        "id": "Xnf_YKuV3prD"
      }
    },
    {
      "cell_type": "code",
      "source": [
        "import os\n",
        "import random\n",
        "\n",
        "def shuffle_images_in_place(folder_path):\n",
        "    images = [f for f in os.listdir(folder_path) if f.lower().endswith(('png', 'jpg', 'jpeg', 'gif'))]\n",
        "\n",
        "    random.shuffle(images)\n",
        "\n",
        "    for index, image in enumerate(images):\n",
        "        old_path = os.path.join(folder_path, image)\n",
        "        new_name = f\"{index+1:03d}_{image}\"\n",
        "        new_path = os.path.join(folder_path, new_name)\n",
        "        os.rename(old_path, new_path)\n",
        "\n",
        "    shuffled_images = sorted(os.listdir(folder_path), key=lambda x: x.split('_')[0])\n",
        "    for index, image in enumerate(shuffled_images):\n",
        "        old_path = os.path.join(folder_path, image)\n",
        "        new_name = f\"{index+1:03d}_{image.split('_', 1)[-1]}\"\n",
        "        new_path = os.path.join(folder_path, new_name)\n",
        "        os.rename(old_path, new_path)\n",
        "\n",
        "    print(f\"Images shuffled in place in: {folder_path}\")\n",
        "\n",
        "folder_path = 'merged_FAKEpictures'\n",
        "shuffle_images_in_place(folder_path)\n",
        "shuffle_images_in_place('merged_REALpictures')"
      ],
      "metadata": {
        "id": "gZjrdwUj3X7i"
      },
      "execution_count": null,
      "outputs": []
    },
    {
      "cell_type": "markdown",
      "source": [
        "Test the folder if it is working properly"
      ],
      "metadata": {
        "id": "k4L2hFL63yOL"
      }
    },
    {
      "cell_type": "code",
      "source": [
        "from PIL import Image\n",
        "from glob import glob\n",
        "import pandas as pd\n",
        "import numpy as np\n",
        "\n",
        "print(\"Fake :\")\n",
        "\n",
        "Image.open(glob('merged_FAKEpictures/*.jpg')[299])"
      ],
      "metadata": {
        "id": "zRBv20kE3xHx"
      },
      "execution_count": null,
      "outputs": []
    },
    {
      "cell_type": "code",
      "source": [
        "print(\"Real :\")\n",
        "Image.open(glob('merged_REALpictures/*.jpg')[2995])"
      ],
      "metadata": {
        "id": "bmg3jrIT34Th"
      },
      "execution_count": null,
      "outputs": []
    },
    {
      "cell_type": "markdown",
      "source": [
        "## Split the train set 80% and test set 20%"
      ],
      "metadata": {
        "id": "wQxEw19S4DZr"
      }
    },
    {
      "cell_type": "code",
      "source": [
        "import shutil\n",
        "import random\n",
        "from pathlib import Path"
      ],
      "metadata": {
        "id": "R91UqMeH4LR0"
      },
      "execution_count": null,
      "outputs": []
    },
    {
      "cell_type": "code",
      "source": [
        "def merge_folders(real_folder, fake_folder, trainreal_folder, trainfake_folder, percentage):\n",
        "    os.makedirs(trainreal_folder, exist_ok=True)\n",
        "    os.makedirs(trainfake_folder, exist_ok = True)\n",
        "\n",
        "    real_files = os.listdir(real_folder)\n",
        "    fake_files = os.listdir(fake_folder)\n",
        "\n",
        "    num_real_files = int(len(real_files) * percentage)\n",
        "    num_fake_files = int(len(fake_files) * percentage)\n",
        "\n",
        "    selected_real_files = random.sample(real_files, min(num_real_files, len(real_files)))\n",
        "    selected_fake_files = random.sample(fake_files, min(num_fake_files, len(fake_files)))\n",
        "\n",
        "    for file_name in selected_real_files:\n",
        "        shutil.move(os.path.join(real_folder, file_name), os.path.join(trainreal_folder, file_name))\n",
        "\n",
        "    for file_name in selected_fake_files:\n",
        "        shutil.move(os.path.join(fake_folder, file_name), os.path.join(trainfake_folder, file_name))\n",
        "\n",
        "merge_folders('merged_REALpictures', 'merged_FAKEpictures', 'train/real', 'train/fake', 0.8)\n",
        "merge_folders('merged_REALpictures', 'merged_FAKEpictures', 'test/real', 'test/fake',1)"
      ],
      "metadata": {
        "id": "i3X4S9rO4NFc"
      },
      "execution_count": null,
      "outputs": []
    },
    {
      "cell_type": "code",
      "source": [
        "Image.open(glob('train/fake/*.jpg')[190])"
      ],
      "metadata": {
        "id": "UnQAkxo24VbZ"
      },
      "execution_count": null,
      "outputs": []
    }
  ]
}